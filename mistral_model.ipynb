{
 "cells": [
  {
   "cell_type": "code",
   "execution_count": 6,
   "id": "0f76f97c",
   "metadata": {},
   "outputs": [
    {
     "name": "stdout",
     "output_type": "stream",
     "text": [
      "The first person to land on the moon was ... Neil Armstrong, a man whose famous words \"That's one small step for (a) man, one giant leap for mankind\" inspired millions around the world during the Apollo 11 mission on July 20, 1969.\n",
      "\n",
      "But who was the first person actually on the lunar surface before Armstrong, as he stepped out of the Lunar Module Eagle onto the moon's surface? It's a question that's led to a lot of debate.\n",
      "\n",
      "Well, according to the recordings and images, there was no one else present at that moment, so technically speaking, there was no first person but Armstrong.\n",
      "\n",
      "But considering the sheer significance of the lunar landing, the story about the \"first man behind Neil Armstrong\" has been a common topic among conspiracy theories, with alleged evidence being put forward over the years.\n",
      "\n",
      "One example often mentioned is a photograph showing Russian cosmonaut Edwin \"Boris\" Grogulevich, supposedly observing the landing in the control room at the Johnson Space Center in Houston, Texas. This photograph has been distributed for decades as supposed evidence that the Soviet Union had inside knowledge of the landing, but it is incorrectly contextualized. Grogulevich actually witnessed the landing in real time, during the public broadcast.\n",
      "\n",
      "So, there's no solid evidence to prove that anyone was present on the lunar surface before Armstrong stepped out of the Lunar Module Eagle, and all the alleged evidence presented so far has been proven to be false.\n",
      "\n",
      "That being said, there's still an interesting theory circulating on the internet surrounding the supposed existence of a secret camera that somehow managed to capture the moment from a lunar rover, before Armstrong reached the Lunar Module. This theory doesn't have any concrete evidence to back it up, and it's largely considered to be a hoax.\n",
      "\n",
      "However, it's quite fascinating to see how this perceived lack of evidence for an empty lunar surface has fueled people's imagination and led to the birth of numerous intriguing conspiracy theories. But, as with any historical events, it's essential to separate fact from fiction and rely on solid evidence to piece together the real story.\n"
     ]
    }
   ],
   "source": [
    "import requests\n",
    "import os\n",
    "from dotenv import load_dotenv\n",
    "\n",
    "# Load API Key from .env file\n",
    "load_dotenv()\n",
    "HF_API_KEY = os.getenv(\"HF_API_KEY\")\n",
    "\n",
    "# Ensure the API key is loaded correctly\n",
    "if not HF_API_KEY:\n",
    "    raise ValueError(\"❌ Hugging Face API Key is missing! Check your .env file.\")\n",
    "\n",
    "# Hugging Face API URL for Mistral 7B Instruct\n",
    "API_URL = \"https://api-inference.huggingface.co/models/mistralai/Mistral-7B-Instruct-v0.2\"\n",
    "HEADERS = {\"Authorization\": f\"Bearer {HF_API_KEY}\"}\n",
    "\n",
    "def query_mistral(prompt):\n",
    "    \"\"\"\n",
    "    Queries the Mistral-7B-Instruct model on Hugging Face API.\n",
    "\n",
    "    Parameters:\n",
    "        prompt (str): Input prompt for text generation.\n",
    "\n",
    "    Returns:\n",
    "        str: Generated response.\n",
    "    \"\"\"\n",
    "    data = {\"inputs\": prompt}\n",
    "\n",
    "    response = requests.post(API_URL, headers=HEADERS, json=data)\n",
    "\n",
    "    if response.status_code == 200:\n",
    "        return response.json()[0][\"generated_text\"]\n",
    "    else:\n",
    "        return f\"❌ Error {response.status_code}: {response.text}\"\n",
    "\n",
    "# Example Usage\n",
    "response = query_mistral(\"The first person to land on the moon was ...\")\n",
    "print(response)\n"
   ]
  }
 ],
 "metadata": {
  "kernelspec": {
   "display_name": "emailenv",
   "language": "python",
   "name": "python3"
  },
  "language_info": {
   "codemirror_mode": {
    "name": "ipython",
    "version": 3
   },
   "file_extension": ".py",
   "mimetype": "text/x-python",
   "name": "python",
   "nbconvert_exporter": "python",
   "pygments_lexer": "ipython3",
   "version": "3.12.1"
  }
 },
 "nbformat": 4,
 "nbformat_minor": 5
}
